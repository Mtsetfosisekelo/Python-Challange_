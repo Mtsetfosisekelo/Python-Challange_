{
  "nbformat": 4,
  "nbformat_minor": 0,
  "metadata": {
    "colab": {
      "name": "Python Challange.ipynb",
      "provenance": []
    },
    "kernelspec": {
      "name": "python3",
      "display_name": "Python 3"
    },
    "language_info": {
      "name": "python"
    }
  },
  "cells": [
    {
      "cell_type": "markdown",
      "source": [
        "# Python challange\n",
        "\n",
        "https://tealfeed.com/4-fantastic-intermediate-python-programming-challenges-b7354"
      ],
      "metadata": {
        "id": "ECZMBl42yG60"
      }
    },
    {
      "cell_type": "markdown",
      "source": [
        "#1. The Star Triangle Pattern\n",
        "Given an input by the user in the form of a positive integer, the program should print out a triangle-shaped pattern made of the star character (*). The input should be stored in a variable called N. N represents the number of rows in the pattern. The number of stars in each row increases by 2 each time. eg $N=3$\n",
        "\n",
        "  $$*$$\n",
        "  \n",
        " $$***$$\n",
        " \n",
        "$$*****$$\n"
      ],
      "metadata": {
        "id": "bNSuCVMqT4TF"
      }
    },
    {
      "cell_type": "markdown",
      "source": [
        "* Simple Python Code"
      ],
      "metadata": {
        "id": "cQPNfrwET-3j"
      }
    },
    {
      "cell_type": "code",
      "execution_count": 1,
      "metadata": {
        "colab": {
          "base_uri": "https://localhost:8080/"
        },
        "id": "1apJNe1gTwy9",
        "outputId": "9dc63831-efc3-4b2f-c455-80dea420658e"
      },
      "outputs": [
        {
          "output_type": "stream",
          "name": "stdout",
          "text": [
            "Enter an integer:5\n",
            "      \n",
            "     *\n",
            "    ***\n",
            "   *****\n",
            "  *******\n",
            " *********\n"
          ]
        }
      ],
      "source": [
        "N = int(input(\"Enter an integer:\"))  #input the integer N, for number of rows in the star traingle formation\n",
        "for i in range(N+1): \n",
        "    print( (abs(N-i))*\" \",(2*i - 1)*\"*\")\n",
        "        \n",
        "    #The \"abs(N-1)\" creates appropriate empt spaces before the start of each rows to properly allign the triangle\n",
        "    #The \"2i -1\" ensures that the diffrence in the number of stars between two consecutive rows is 2"
      ]
    },
    {
      "cell_type": "markdown",
      "source": [
        "* Callable Python Function"
      ],
      "metadata": {
        "id": "QYEoY0XEUHNM"
      }
    },
    {
      "cell_type": "code",
      "source": [
        "def Star_Triangle():  #Python callable function\n",
        "    N = int(input(\"Enter an integer:\"))  #input the integer N, for number of rows in the star traingle formation\n",
        "    for i in range(N+1): \n",
        "        print( (abs(N-i))*\" \",(2*i - 1)*\"*\")\n",
        "        \n",
        "        #The \"abs(N-1)\" creates appropriate empt spaces before the start of each rows to properly allign the triangle\n",
        "        #The \"2i -1\" ensures that the diffrence in the number of stars between two consecutive rows is 2"
      ],
      "metadata": {
        "id": "vumorbwOT9hl"
      },
      "execution_count": 3,
      "outputs": []
    },
    {
      "cell_type": "code",
      "source": [
        "Star_Triangle()"
      ],
      "metadata": {
        "colab": {
          "base_uri": "https://localhost:8080/"
        },
        "id": "NL6BiJ1CT-KG",
        "outputId": "8b0a0560-fb7f-47da-9724-8bf567e0631b"
      },
      "execution_count": 4,
      "outputs": [
        {
          "output_type": "stream",
          "name": "stdout",
          "text": [
            "Enter an integer:5\n",
            "      \n",
            "     *\n",
            "    ***\n",
            "   *****\n",
            "  *******\n",
            " *********\n"
          ]
        }
      ]
    },
    {
      "cell_type": "markdown",
      "source": [
        "#2. Sum of Integers in String\n",
        "Given a sentence or cluster of words, find out if there are any integers inside the string. Print out the total number of integers. If there’s at least 1 integer present, find the sum of all of the integers found and print out the sum.\n",
        "\n",
        "For example:\n",
        "\n",
        "If string = “200 plus 500 is equal to”\n",
        "\n",
        "2 integers found\n",
        "\n",
        "sum: 700"
      ],
      "metadata": {
        "id": "EUXUu4PcUl40"
      }
    },
    {
      "cell_type": "code",
      "source": [
        "String = \"200 plus 500 is equal to\" #string to analize\n",
        "split = String.split() #split the string at empty spaces\n",
        "INTAGERS = [\"0\",\"1\",\"2\",\"3\",\"4\",\"5\",\"6\",\"7\",\"8\",\"9\"] #list of intagers\n",
        "count = 0\n",
        "sum = 0\n",
        "for word in split:\n",
        "    TRUE_LIST = []\n",
        "    for i in range(len(word)):\n",
        "        if word[i] in INTAGERS:\n",
        "            TRUE_LIST.append( int(word[i]) == True )\n",
        "    if len(word) == len(TRUE_LIST):\n",
        "        count = count + 1\n",
        "        sum = sum + int(word)\n",
        "print(str(count)+\" Intagers found\",\"\\n\"\"sum: \"+str(sum) )\n",
        "\n",
        "#Takes each word and check if each element is an intager, and if its true, then we create a list of boolen values \"\""
      ],
      "metadata": {
        "colab": {
          "base_uri": "https://localhost:8080/"
        },
        "id": "ufUUqzsxXrvy",
        "outputId": "4fa0f7d0-334f-495f-e778-ff4232d9e4c4"
      },
      "execution_count": 96,
      "outputs": [
        {
          "output_type": "stream",
          "name": "stdout",
          "text": [
            "2 Intagers found \n",
            "sum: 700\n"
          ]
        }
      ]
    },
    {
      "cell_type": "markdown",
      "source": [
        "#3. FizzBuzz\n",
        "Cycle through every number from 1 to some number that the user provides as input. (only integers) and print each one onscreen. If the number is divisible by 4, then instead of printing the number itself, print “Fizz”. If the number is divisible by 6, then instead of printing the number itself, print “Buzz”. If the number is divisible by both 4 and 6, print “FizzBuzz”. If the number doesn’t satisfy any of these conditions, simply print the number itself.\n",
        "\n",
        "For example:\n",
        "\n",
        "If max = 13\n",
        "\n",
        "The range would be 1 to 13\n",
        "\n",
        "\\begin{align}\n",
        "1\\\\\n",
        "2\\\\\n",
        "3\\\\\n",
        "\\text{Fizz}\\\\\n",
        "5\\\\\n",
        "\\text{Buzz}\\\\\n",
        "7\\\\\n",
        "\\text{Fizz}\\\\\n",
        "9\\\\\n",
        "10\\\\\n",
        "11\\\\\n",
        "\\text{FizzBuzz}\\\\\n",
        "13\n",
        "\\end{align}"
      ],
      "metadata": {
        "id": "MoX8HXwXhcGd"
      }
    },
    {
      "cell_type": "code",
      "source": [
        "max = int( input(\"enter an intager: \") )\n",
        "if max < 4:\n",
        "    print(max)\n",
        "else:\n",
        "    for i in range(1,max+1):\n",
        "        if i%4 == 0 and i%6 == 0:\n",
        "            print(\"FizzBuzz\")\n",
        "        elif i%4 == 0:\n",
        "            print(\"fizz\")\n",
        "        elif i%6 == 0:\n",
        "            print(\"Buzz\")\n",
        "        else:\n",
        "            print(i)"
      ],
      "metadata": {
        "colab": {
          "base_uri": "https://localhost:8080/"
        },
        "id": "wAOnvVCRhdXT",
        "outputId": "5b652a33-0270-4fa3-d5f9-d2871a7545d9"
      },
      "execution_count": 103,
      "outputs": [
        {
          "output_type": "stream",
          "name": "stdout",
          "text": [
            "enter an intager: 13\n",
            "1\n",
            "2\n",
            "3\n",
            "fizz\n",
            "5\n",
            "Buzz\n",
            "7\n",
            "fizz\n",
            "9\n",
            "10\n",
            "11\n",
            "FizzBuzz\n",
            "13\n"
          ]
        }
      ]
    },
    {
      "cell_type": "markdown",
      "source": [
        "#4. Sum of Two\n",
        "Create a function called sumOfTwo(a, b, v) with 3 parameters.\n",
        "\n",
        "a is a list of numbers values, such as $[22, 341, 21, 5, 0, -5]$.\n",
        "\n",
        "b is also a list of number values, just like a.\n",
        "\n",
        "a and b can be anything; negative, a float, etc.\n",
        "\n",
        "v is a single number value.\n",
        "\n",
        "The function should check if it is possible to take one number from both list a and b, and add the numbers together to equal the number v.\n",
        "\n",
        "If there are 2 numbers that can do this, print “True”. Otherwise, print “False”.\n",
        "\n",
        "For example:\n",
        "\n",
        "sumOfTwo([1, 2, 3], [10, 20, 30], 23)\n",
        "\n",
        "The output would be “True” because 3 + 20 = 23."
      ],
      "metadata": {
        "id": "Aib628-GkqAB"
      }
    },
    {
      "cell_type": "code",
      "source": [
        "def SumOfTwo(a,b,v):\n",
        "    import numpy as np #package to convert list into numpy array\n",
        "    a = np.array(a) #convert list into a numpy array for easy calculations. Arrays can be added together\n",
        "    b = np.array(b)\n",
        "    L = []\n",
        "    for i in a:\n",
        "        a_b = i + b #Add each value of a to all values of b, then append the results in a list L\n",
        "        for j in a_b:\n",
        "            L.append(j)\n",
        "    if v in L: #check if the list L contain v, and then print out the appropriate result\n",
        "        print(\"True\")\n",
        "    else:\n",
        "        print(\"False\")"
      ],
      "metadata": {
        "id": "F3ylH7AbpYQJ"
      },
      "execution_count": 141,
      "outputs": []
    },
    {
      "cell_type": "code",
      "source": [
        "SumOfTwo([1, 2, 3], [10, 20, 30], 33)"
      ],
      "metadata": {
        "colab": {
          "base_uri": "https://localhost:8080/"
        },
        "id": "UXnHd3YvqGyX",
        "outputId": "42498128-40c3-4034-903d-5b6479e54b58"
      },
      "execution_count": 140,
      "outputs": [
        {
          "output_type": "stream",
          "name": "stdout",
          "text": [
            "True\n"
          ]
        }
      ]
    }
  ]
}